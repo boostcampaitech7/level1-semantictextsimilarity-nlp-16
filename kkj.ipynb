{
 "cells": [
  {
   "cell_type": "code",
   "execution_count": 1,
   "metadata": {},
   "outputs": [
    {
     "name": "stderr",
     "output_type": "stream",
     "text": [
      "/opt/conda/envs/STS/lib/python3.11/site-packages/tqdm/auto.py:21: TqdmWarning: IProgress not found. Please update jupyter and ipywidgets. See https://ipywidgets.readthedocs.io/en/stable/user_install.html\n",
      "  from .autonotebook import tqdm as notebook_tqdm\n",
      "[nltk_data] Downloading package punkt_tab to\n",
      "[nltk_data]     /data/ephemeral/home/nltk_data...\n",
      "[nltk_data]   Package punkt_tab is already up-to-date!\n",
      "[nltk_data] Downloading package punkt to\n",
      "[nltk_data]     /data/ephemeral/home/nltk_data...\n",
      "[nltk_data]   Package punkt is already up-to-date!\n",
      "[nltk_data] Downloading package stopwords to\n",
      "[nltk_data]     /data/ephemeral/home/nltk_data...\n",
      "[nltk_data]   Package stopwords is already up-to-date!\n"
     ]
    }
   ],
   "source": [
    "import datetime\n",
    "\n",
    "import numpy as np\n",
    "import pandas as pd\n",
    "import wandb\n",
    "import yaml\n",
    "from pytorch_lightning import Trainer\n",
    "from pytorch_lightning.callbacks import EarlyStopping, ModelCheckpoint\n",
    "from pytorch_lightning.loggers import WandbLogger\n",
    "from utils.tokenizer import get_tokenizer\n",
    "from data_loader.data_loaders import TextDataLoader\n",
    "from utils.util import set_seed\n",
    "from model.model import STSModel\n",
    "from utils.util import WandbCheckpointCallback\n",
    "from utils.clean import clean_texts"
   ]
  },
  {
   "cell_type": "code",
   "execution_count": 8,
   "metadata": {},
   "outputs": [
    {
     "data": {
      "text/html": [
       "<div>\n",
       "<style scoped>\n",
       "    .dataframe tbody tr th:only-of-type {\n",
       "        vertical-align: middle;\n",
       "    }\n",
       "\n",
       "    .dataframe tbody tr th {\n",
       "        vertical-align: top;\n",
       "    }\n",
       "\n",
       "    .dataframe thead th {\n",
       "        text-align: right;\n",
       "    }\n",
       "</style>\n",
       "<table border=\"1\" class=\"dataframe\">\n",
       "  <thead>\n",
       "    <tr style=\"text-align: right;\">\n",
       "      <th></th>\n",
       "      <th>sentence_1</th>\n",
       "      <th>sentence_2</th>\n",
       "      <th>label</th>\n",
       "    </tr>\n",
       "  </thead>\n",
       "  <tbody>\n",
       "    <tr>\n",
       "      <th>0</th>\n",
       "      <td>스릴도있고 반전도 있고 여느 한국영화 쓰레기들하고는 차원이 다르네요~</td>\n",
       "      <td>반전도 있고,사랑도 있고재미도있네요.</td>\n",
       "      <td>2.2</td>\n",
       "    </tr>\n",
       "    <tr>\n",
       "      <th>1</th>\n",
       "      <td>앗 제가 접근권한이 없다고 뜹니다;;</td>\n",
       "      <td>오, 액세스 권한이 없다고 합니다.</td>\n",
       "      <td>4.2</td>\n",
       "    </tr>\n",
       "    <tr>\n",
       "      <th>2</th>\n",
       "      <td>주택청약조건 변경해주세요.</td>\n",
       "      <td>주택청약 무주택기준 변경해주세요.</td>\n",
       "      <td>2.4</td>\n",
       "    </tr>\n",
       "    <tr>\n",
       "      <th>3</th>\n",
       "      <td>입사후 처음 대면으로 만나 반가웠습니다.</td>\n",
       "      <td>화상으로만 보다가 리얼로 만나니 정말 반가웠습니다.</td>\n",
       "      <td>3.0</td>\n",
       "    </tr>\n",
       "    <tr>\n",
       "      <th>4</th>\n",
       "      <td>뿌듯뿌듯 하네요!!</td>\n",
       "      <td>꼬옥 실제로 한번 뵈어요 뿌뿌뿌~!~!</td>\n",
       "      <td>0.0</td>\n",
       "    </tr>\n",
       "  </tbody>\n",
       "</table>\n",
       "</div>"
      ],
      "text/plain": [
       "                               sentence_1                    sentence_2  label\n",
       "0  스릴도있고 반전도 있고 여느 한국영화 쓰레기들하고는 차원이 다르네요~          반전도 있고,사랑도 있고재미도있네요.    2.2\n",
       "1                    앗 제가 접근권한이 없다고 뜹니다;;           오, 액세스 권한이 없다고 합니다.    4.2\n",
       "2                          주택청약조건 변경해주세요.            주택청약 무주택기준 변경해주세요.    2.4\n",
       "3                  입사후 처음 대면으로 만나 반가웠습니다.  화상으로만 보다가 리얼로 만나니 정말 반가웠습니다.    3.0\n",
       "4                              뿌듯뿌듯 하네요!!         꼬옥 실제로 한번 뵈어요 뿌뿌뿌~!~!    0.0"
      ]
     },
     "execution_count": 8,
     "metadata": {},
     "output_type": "execute_result"
    }
   ],
   "source": [
    "train = pd.read_csv('data/train.csv')\n",
    "dev = pd.read_csv('data/dev.csv')\n",
    "\n",
    "train.drop(columns=['id', 'source', 'binary-label'], inplace = True)\n",
    "dev.drop(columns=['id', 'source', 'binary-label'], inplace = True)\n",
    "\n",
    "train.head()"
   ]
  },
  {
   "cell_type": "code",
   "execution_count": 9,
   "metadata": {},
   "outputs": [
    {
     "data": {
      "text/html": [
       "<div>\n",
       "<style scoped>\n",
       "    .dataframe tbody tr th:only-of-type {\n",
       "        vertical-align: middle;\n",
       "    }\n",
       "\n",
       "    .dataframe tbody tr th {\n",
       "        vertical-align: top;\n",
       "    }\n",
       "\n",
       "    .dataframe thead th {\n",
       "        text-align: right;\n",
       "    }\n",
       "</style>\n",
       "<table border=\"1\" class=\"dataframe\">\n",
       "  <thead>\n",
       "    <tr style=\"text-align: right;\">\n",
       "      <th></th>\n",
       "      <th>sentence_1</th>\n",
       "      <th>sentence_2</th>\n",
       "      <th>label</th>\n",
       "    </tr>\n",
       "  </thead>\n",
       "  <tbody>\n",
       "    <tr>\n",
       "      <th>0</th>\n",
       "      <td>스릴도있고 반전도 있고 여느 한국영화 쓰레기들하고는 차원이 다르네요</td>\n",
       "      <td>반전도 있고사랑도 있고재미도있네요</td>\n",
       "      <td>2.2</td>\n",
       "    </tr>\n",
       "    <tr>\n",
       "      <th>1</th>\n",
       "      <td>앗 제가 접근권한이 없다고 뜹니다</td>\n",
       "      <td>오 액세스 권한이 없다고 합니다</td>\n",
       "      <td>4.2</td>\n",
       "    </tr>\n",
       "    <tr>\n",
       "      <th>2</th>\n",
       "      <td>주택청약조건 변경해주세요</td>\n",
       "      <td>주택청약 무주택기준 변경해주세요</td>\n",
       "      <td>2.4</td>\n",
       "    </tr>\n",
       "    <tr>\n",
       "      <th>3</th>\n",
       "      <td>입사후 처음 대면으로 만나 반가웠습니다</td>\n",
       "      <td>화상으로만 보다가 리얼로 만나니 정말 반가웠습니다</td>\n",
       "      <td>3.0</td>\n",
       "    </tr>\n",
       "    <tr>\n",
       "      <th>4</th>\n",
       "      <td>뿌듯뿌듯 하네요</td>\n",
       "      <td>꼬옥 실제로 한번 뵈어요 뿌뿌뿌</td>\n",
       "      <td>0.0</td>\n",
       "    </tr>\n",
       "  </tbody>\n",
       "</table>\n",
       "</div>"
      ],
      "text/plain": [
       "                              sentence_1                   sentence_2  label\n",
       "0  스릴도있고 반전도 있고 여느 한국영화 쓰레기들하고는 차원이 다르네요           반전도 있고사랑도 있고재미도있네요    2.2\n",
       "1                     앗 제가 접근권한이 없다고 뜹니다            오 액세스 권한이 없다고 합니다    4.2\n",
       "2                          주택청약조건 변경해주세요            주택청약 무주택기준 변경해주세요    2.4\n",
       "3                  입사후 처음 대면으로 만나 반가웠습니다  화상으로만 보다가 리얼로 만나니 정말 반가웠습니다    3.0\n",
       "4                               뿌듯뿌듯 하네요            꼬옥 실제로 한번 뵈어요 뿌뿌뿌    0.0"
      ]
     },
     "execution_count": 9,
     "metadata": {},
     "output_type": "execute_result"
    }
   ],
   "source": [
    "train[['label']] = train[['label']].astype('float32')\n",
    "train['sentence_1'] = clean_texts(train['sentence_1'])\n",
    "train['sentence_2'] = clean_texts(train['sentence_2'])\n",
    "\n",
    "dev[['label']] = dev[['label']].astype('float32')\n",
    "dev['sentence_1'] = clean_texts(dev['sentence_1'])\n",
    "dev['sentence_2'] = clean_texts(dev['sentence_2'])\n",
    "\n",
    "train.head()"
   ]
  },
  {
   "cell_type": "code",
   "execution_count": 10,
   "metadata": {},
   "outputs": [],
   "source": [
    "from konlpy.tag import Mecab\n",
    "import random\n",
    "\n",
    "def random_deletion(text, p=0.1):\n",
    "    mecab = Mecab()\n",
    "    tokens_with_pos = mecab.pos(text)\n",
    "    tokens = [token for token, pos in tokens_with_pos]\n",
    "    if len(tokens) == 1:\n",
    "        return text\n",
    "    remaining = [t for t in tokens if random.random() > p]\n",
    "    if len(remaining) == 0:\n",
    "        return random.choice(tokens)\n",
    "    return ' '.join(remaining)\n",
    "\n",
    "def random_swap(text, n=1):\n",
    "    mecab = Mecab()\n",
    "    tokens_with_pos = mecab.pos(text)\n",
    "    tokens = [token for token, pos in tokens_with_pos]\n",
    "    for _ in range(n):\n",
    "        if len(tokens) >= 2:\n",
    "            idx1, idx2 = random.sample(range(len(tokens)), 2)\n",
    "            tokens[idx1], tokens[idx2] = tokens[idx2], tokens[idx1]\n",
    "    return ' '.join(tokens)\n",
    "\n",
    "def random_insertion(text, n=1):\n",
    "    mecab = Mecab()\n",
    "    tokens_with_pos = mecab.pos(text)\n",
    "    tokens = [token for token, pos in tokens_with_pos]\n",
    "    for _ in range(n):\n",
    "        insert_pos = random.randint(0, len(tokens))\n",
    "        insert_word = random.choice(tokens)\n",
    "        tokens.insert(insert_pos, insert_word)\n",
    "    return ' '.join(tokens)\n",
    "\n",
    "train_swapped = train.copy(deep=True)\n",
    "train_swapped['sentence_1'] = train_swapped['sentence_1'].apply(lambda x : random_swap(x))\n",
    "train_deleted = train.copy(deep=True)\n",
    "train_deleted['sentence_1'] = train_deleted['sentence_1'].apply(lambda x : random_deletion(x))\n",
    "train_inserted = train.copy(deep=True)\n",
    "train_inserted['sentence_1'] = train_inserted['sentence_1'].apply(lambda x : random_insertion(x))\n",
    "\n",
    "# train = pd.concat([train, train_swapped, train_deleted, train_inserted])\n",
    "train = pd.concat([train, train_deleted])\n",
    "train.reset_index(drop=True, inplace=True)"
   ]
  },
  {
   "cell_type": "code",
   "execution_count": 11,
   "metadata": {},
   "outputs": [],
   "source": [
    "config = {\n",
    "    'BATCH_SIZE': 32,\n",
    "    'MAX_LEN': 128,\n",
    "    'LEARNING_RATE': 0.00001,\n",
    "    'EPOCHS': 10,\n",
    "    'MODEL_NAME': 'intfloat/multilingual-e5-small'\n",
    "}"
   ]
  },
  {
   "cell_type": "code",
   "execution_count": 12,
   "metadata": {},
   "outputs": [
    {
     "name": "stderr",
     "output_type": "stream",
     "text": [
      "\u001b[34m\u001b[1mwandb\u001b[0m: \u001b[33mWARNING\u001b[0m Calling wandb.login() after wandb.init() has no effect.\n"
     ]
    },
    {
     "data": {
      "text/html": [
       "Finishing last run (ID:sl2xwpsk) before initializing another..."
      ],
      "text/plain": [
       "<IPython.core.display.HTML object>"
      ]
     },
     "metadata": {},
     "output_type": "display_data"
    },
    {
     "data": {
      "text/html": [
       "<style>\n",
       "    table.wandb td:nth-child(1) { padding: 0 10px; text-align: left ; width: auto;} td:nth-child(2) {text-align: left ; width: 100%}\n",
       "    .wandb-row { display: flex; flex-direction: row; flex-wrap: wrap; justify-content: flex-start; width: 100% }\n",
       "    .wandb-col { display: flex; flex-direction: column; flex-basis: 100%; flex: 1; padding: 10px; }\n",
       "    </style>\n",
       "<div class=\"wandb-row\"><div class=\"wandb-col\"><h3>Run history:</h3><br/><table class=\"wandb\"><tr><td>epoch</td><td>▁▁▁▁▁▁▁▁▁▁▃▃▃▃▃▃▃▃▃▃▃▃▃▃▆▆▆▆▆▆▆▆████████</td></tr><tr><td>train_loss</td><td>█▃▂▁</td></tr><tr><td>trainer/global_step</td><td>▁▁▂▂▂▂▂▃▃▃▃▃▃▃▃▄▄▄▄▄▄▄▅▅▅▆▆▆▆▆▇▇▇▇▇▇▇▇▇█</td></tr><tr><td>val_loss</td><td>█▃▂▂▁▁▂▁▁▁▁▁▁▁▂▁▁▁▁▁▁▁▁▁▁▁▁▁▁▁▁▁▁▁▁▂▂▂▁▁</td></tr><tr><td>val_pearson_corr</td><td>▁▇▇▇████████████████████████████████████</td></tr></table><br/></div><div class=\"wandb-col\"><h3>Run summary:</h3><br/><table class=\"wandb\"><tr><td>epoch</td><td>3</td></tr><tr><td>train_loss</td><td>0.2376</td></tr><tr><td>trainer/global_step</td><td>2331</td></tr><tr><td>val_loss</td><td>0.78813</td></tr><tr><td>val_pearson_corr</td><td>0.80877</td></tr></table><br/></div></div>"
      ],
      "text/plain": [
       "<IPython.core.display.HTML object>"
      ]
     },
     "metadata": {},
     "output_type": "display_data"
    },
    {
     "data": {
      "text/html": [
       " View run <strong style=\"color:#cdcd00\">Random_Insert</strong> at: <a href='https://wandb.ai/kangjun205/Level1_STS/runs/sl2xwpsk' target=\"_blank\">https://wandb.ai/kangjun205/Level1_STS/runs/sl2xwpsk</a><br/> View project at: <a href='https://wandb.ai/kangjun205/Level1_STS' target=\"_blank\">https://wandb.ai/kangjun205/Level1_STS</a><br/>Synced 4 W&B file(s), 0 media file(s), 2 artifact file(s) and 0 other file(s)"
      ],
      "text/plain": [
       "<IPython.core.display.HTML object>"
      ]
     },
     "metadata": {},
     "output_type": "display_data"
    },
    {
     "data": {
      "text/html": [
       "Find logs at: <code>./wandb/run-20240916_033211-sl2xwpsk/logs</code>"
      ],
      "text/plain": [
       "<IPython.core.display.HTML object>"
      ]
     },
     "metadata": {},
     "output_type": "display_data"
    },
    {
     "data": {
      "text/html": [
       "Successfully finished last run (ID:sl2xwpsk). Initializing new run:<br/>"
      ],
      "text/plain": [
       "<IPython.core.display.HTML object>"
      ]
     },
     "metadata": {},
     "output_type": "display_data"
    },
    {
     "data": {
      "text/html": [
       "Tracking run with wandb version 0.18.0"
      ],
      "text/plain": [
       "<IPython.core.display.HTML object>"
      ]
     },
     "metadata": {},
     "output_type": "display_data"
    },
    {
     "data": {
      "text/html": [
       "Run data is saved locally in <code>/data/ephemeral/level1-semantictextsimilarity-nlp-16/wandb/run-20240916_040809-tp8myaue</code>"
      ],
      "text/plain": [
       "<IPython.core.display.HTML object>"
      ]
     },
     "metadata": {},
     "output_type": "display_data"
    },
    {
     "data": {
      "text/html": [
       "Syncing run <strong><a href='https://wandb.ai/kangjun205/Level1_STS/runs/tp8myaue' target=\"_blank\">Random_Delete_2</a></strong> to <a href='https://wandb.ai/kangjun205/Level1_STS' target=\"_blank\">Weights & Biases</a> (<a href='https://wandb.me/run' target=\"_blank\">docs</a>)<br/>"
      ],
      "text/plain": [
       "<IPython.core.display.HTML object>"
      ]
     },
     "metadata": {},
     "output_type": "display_data"
    },
    {
     "data": {
      "text/html": [
       " View project at <a href='https://wandb.ai/kangjun205/Level1_STS' target=\"_blank\">https://wandb.ai/kangjun205/Level1_STS</a>"
      ],
      "text/plain": [
       "<IPython.core.display.HTML object>"
      ]
     },
     "metadata": {},
     "output_type": "display_data"
    },
    {
     "data": {
      "text/html": [
       " View run at <a href='https://wandb.ai/kangjun205/Level1_STS/runs/tp8myaue' target=\"_blank\">https://wandb.ai/kangjun205/Level1_STS/runs/tp8myaue</a>"
      ],
      "text/plain": [
       "<IPython.core.display.HTML object>"
      ]
     },
     "metadata": {},
     "output_type": "display_data"
    },
    {
     "data": {
      "text/html": [
       "<button onClick=\"this.nextSibling.style.display='block';this.style.display='none';\">Display W&B run</button><iframe src='https://wandb.ai/kangjun205/Level1_STS/runs/tp8myaue?jupyter=true' style='border:none;width:100%;height:420px;display:none;'></iframe>"
      ],
      "text/plain": [
       "<wandb.sdk.wandb_run.Run at 0x7f623afde850>"
      ]
     },
     "execution_count": 12,
     "metadata": {},
     "output_type": "execute_result"
    }
   ],
   "source": [
    "wandb.login(key='dfae2bfa701b636a0c1d84ddd928a19f5e17c2f5')\n",
    "wandb.init(project=\"Level1_STS\", name = 'Random_Delete_2', config = config)"
   ]
  },
  {
   "cell_type": "code",
   "execution_count": 13,
   "metadata": {},
   "outputs": [
    {
     "name": "stderr",
     "output_type": "stream",
     "text": [
      "GPU available: True (cuda), used: True\n",
      "TPU available: False, using: 0 TPU cores\n",
      "HPU available: False, using: 0 HPUs\n",
      "`Trainer(val_check_interval=1)` was configured so validation will run after every batch.\n",
      "/opt/conda/envs/STS/lib/python3.11/site-packages/pytorch_lightning/loggers/wandb.py:396: There is a wandb run already in progress and newly created instances of `WandbLogger` will reuse this run. If this is not desired, call `wandb.finish()` before instantiating `WandbLogger`.\n",
      "/opt/conda/envs/STS/lib/python3.11/site-packages/pytorch_lightning/callbacks/model_checkpoint.py:654: Checkpoint directory /data/ephemeral/level1-semantictextsimilarity-nlp-16/saved exists and is not empty.\n",
      "LOCAL_RANK: 0 - CUDA_VISIBLE_DEVICES: [0]\n",
      "\n",
      "  | Name    | Type      | Params | Mode \n",
      "----------------------------------------------\n",
      "0 | mod     | BertModel | 117 M  | eval \n",
      "1 | dense   | Linear    | 385    | train\n",
      "2 | sigmoid | Sigmoid   | 0      | train\n",
      "----------------------------------------------\n",
      "117 M     Trainable params\n",
      "0         Non-trainable params\n",
      "117 M     Total params\n",
      "470.617   Total estimated model params size (MB)\n",
      "2         Modules in train mode\n",
      "228       Modules in eval mode\n"
     ]
    },
    {
     "name": "stdout",
     "output_type": "stream",
     "text": [
      "Sanity Checking DataLoader 0:  50%|█████     | 1/2 [00:00<00:00, 40.23it/s]"
     ]
    },
    {
     "name": "stderr",
     "output_type": "stream",
     "text": [
      "/opt/conda/envs/STS/lib/python3.11/site-packages/pytorch_lightning/trainer/connectors/data_connector.py:424: The 'val_dataloader' does not have many workers which may be a bottleneck. Consider increasing the value of the `num_workers` argument` to `num_workers=7` in the `DataLoader` to improve performance.\n"
     ]
    },
    {
     "name": "stdout",
     "output_type": "stream",
     "text": [
      "                                                                           "
     ]
    },
    {
     "name": "stderr",
     "output_type": "stream",
     "text": [
      "/opt/conda/envs/STS/lib/python3.11/site-packages/pytorch_lightning/trainer/connectors/data_connector.py:424: The 'train_dataloader' does not have many workers which may be a bottleneck. Consider increasing the value of the `num_workers` argument` to `num_workers=7` in the `DataLoader` to improve performance.\n"
     ]
    },
    {
     "name": "stdout",
     "output_type": "stream",
     "text": [
      "Epoch 0:   0%|          | 2/583 [00:00<03:28,  2.78it/s, v_num=yaue]"
     ]
    },
    {
     "name": "stderr",
     "output_type": "stream",
     "text": [
      "/opt/conda/envs/STS/lib/python3.11/site-packages/torchmetrics/utilities/prints.py:43: UserWarning: The variance of predictions or target is close to zero. This can cause instability in Pearson correlationcoefficient, leading to wrong results. Consider re-scaling the input if possible or computing using alarger dtype (currently using torch.float32).\n",
      "  warnings.warn(*args, **kwargs)  # noqa: B028\n"
     ]
    },
    {
     "name": "stdout",
     "output_type": "stream",
     "text": [
      "Epoch 3: 100%|██████████| 583/583 [06:37<00:00,  1.47it/s, v_num=yaue]\n"
     ]
    }
   ],
   "source": [
    "now_min = datetime.datetime.now().strftime('%d%H%M')\n",
    "now_sec = datetime.datetime.now().strftime('%d%H%M%S')\n",
    "\n",
    "tokenizer = get_tokenizer(config['MODEL_NAME'])\n",
    "dataloader = TextDataLoader(\n",
    "    tokenizer=tokenizer,\n",
    "    max_len=config['MAX_LEN'],\n",
    "    train_data=train,\n",
    "    dev_data=dev,\n",
    "    truncation=True,\n",
    "    batch_size=config['BATCH_SIZE']\n",
    ")\n",
    "model = STSModel(config)\n",
    "\n",
    "early_stop_callback = EarlyStopping(\n",
    "    monitor='val_loss',\n",
    "    patience=3,\n",
    "    mode='min'\n",
    ")\n",
    "\n",
    "checkpoint_callback = ModelCheckpoint(\n",
    "    dirpath='saved',\n",
    "    filename=f'best-model-{now_sec}',\n",
    "    save_top_k=3,\n",
    "    monitor='val_loss',\n",
    "    mode='min'\n",
    ")\n",
    "\n",
    "wandb_checkpoint_callback = WandbCheckpointCallback(top_k=3)\n",
    "\n",
    "model_name = config['MODEL_NAME']\n",
    "run_name = f'{model_name}-{now_min}'\n",
    "wandb_logger = WandbLogger(name = run_name, project=\"Level1-STS\")\n",
    "\n",
    "trainer = Trainer(\n",
    "    accelerator=\"gpu\",\n",
    "    devices=1,\n",
    "    max_epochs=config['EPOCHS'],\n",
    "    val_check_interval=1,\n",
    "    callbacks=[early_stop_callback, checkpoint_callback],\n",
    "    logger = wandb_logger\n",
    "    )\n",
    "\n",
    "trainer.fit(model, datamodule=dataloader)"
   ]
  },
  {
   "cell_type": "code",
   "execution_count": null,
   "metadata": {},
   "outputs": [],
   "source": []
  }
 ],
 "metadata": {
  "kernelspec": {
   "display_name": "Python 3",
   "language": "python",
   "name": "python3"
  },
  "language_info": {
   "codemirror_mode": {
    "name": "ipython",
    "version": 3
   },
   "file_extension": ".py",
   "mimetype": "text/x-python",
   "name": "python",
   "nbconvert_exporter": "python",
   "pygments_lexer": "ipython3",
   "version": "3.11.9"
  }
 },
 "nbformat": 4,
 "nbformat_minor": 2
}
